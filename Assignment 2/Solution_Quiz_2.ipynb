{
  "nbformat": 4,
  "nbformat_minor": 0,
  "metadata": {
    "colab": {
      "provenance": []
    },
    "kernelspec": {
      "name": "python3",
      "display_name": "Python 3"
    },
    "language_info": {
      "name": "python"
    }
  },
  "cells": [
    {
      "cell_type": "code",
      "execution_count": null,
      "metadata": {
        "id": "XKYdbT8Mwe7e"
      },
      "outputs": [],
      "source": [
        "\"\"\"\n",
        "Write 3 functions, one for each operation:\n",
        "Input: List of strings\n",
        "Assume: The search elements exist atleast once in the list\n",
        "\"\"\""
      ]
    },
    {
      "cell_type": "code",
      "source": [
        "\"\"\"\n",
        "Given the input list and element to be found, return the index of the first occurance\n",
        "Input List = [\"hey\", \"how\", \"is\", \"hey\", \"you\", \"how\", \"are\", \"you\", \"hey\"]\n",
        "Search Element = \"you\"\n",
        "Output = 4\n",
        "\"\"\"\n",
        "\n",
        "def search(input_list, search_elem):\n",
        "  for index, val in enumerate(input_list): # This enumerate object contains a count (from the start, which always defaults to 0)\n",
        "    if(val == search_elem):\n",
        "      break\n",
        "  return index\n",
        "\n",
        "\n",
        "search([\"hey\", \"how\", \"is\", \"hey\", \"you\", \"how\", \"are\", \"you\", \"hey\"],\"you\")"
      ],
      "metadata": {
        "id": "UQoc37eixzUs",
        "colab": {
          "base_uri": "https://localhost:8080/"
        },
        "outputId": "e853b060-0294-4793-dcef-c7765f4526ca"
      },
      "execution_count": null,
      "outputs": [
        {
          "output_type": "execute_result",
          "data": {
            "text/plain": [
              "4"
            ]
          },
          "metadata": {},
          "execution_count": 37
        }
      ]
    },
    {
      "cell_type": "code",
      "source": [
        "\"\"\"\n",
        "Given the input list, count the number of elements equal to 'search_elem'\n",
        "Input List = [\"hey\", \"how\", \"is\", \"hey\", \"you\", \"how\", \"are\", \"you\", \"hey\"]\n",
        "Search Element = \"hey\"\n",
        "Output = 3\n",
        "\"\"\"\n",
        "def count(input_list, search_elem):\n",
        "  count = 0\n",
        "  for elem in input_list:\n",
        "    if (elem == search_elem):\n",
        "      count = count + 1\n",
        "\n",
        "  return count\n",
        "\n",
        "count([\"hey\", \"how\", \"is\", \"hey\", \"you\", \"how\", \"are\", \"you\", \"hey\"],\"hey\")"
      ],
      "metadata": {
        "id": "QjwLVStYyBHQ",
        "colab": {
          "base_uri": "https://localhost:8080/"
        },
        "outputId": "bf7b9e41-6957-4f2e-f35a-21c0e20bc86c"
      },
      "execution_count": null,
      "outputs": [
        {
          "output_type": "execute_result",
          "data": {
            "text/plain": [
              "3"
            ]
          },
          "metadata": {},
          "execution_count": 32
        }
      ]
    },
    {
      "cell_type": "code",
      "source": [
        "\"\"\"\n",
        "Given the input list, and another list of search terms, return a dict with a list of their corresponding indices\n",
        "Input List = [\"hey\", \"how\", \"is\", \"hey\", \"you\", \"how\", \"are\", \"you\", \"hey\"]\n",
        "Search List = [\"hey\", \"you\"]\n",
        "Output Dict = {\n",
        "  \"hey\" : [0, 3, 8],\n",
        "  \"you\" : [4, 7]\n",
        "}\n",
        "\n",
        "Concept: Nested for loops -> One for loop inside another\n",
        "\"\"\"\n",
        "\n",
        "def search_location(input_list, search_list):\n",
        "  output_dict = {}\n",
        "  for elem in search_list:\n",
        "    indices = []\n",
        "    for index, val in enumerate(input_list):\n",
        "        if val == elem:\n",
        "          indices.append(index)\n",
        "    output_dict[elem] = indices     # keys: search elements & values: lists of their corresponding indices in the input list\n",
        "\n",
        "  return output_dict\n",
        "\n",
        "\n",
        "search_location([\"hey\", \"how\", \"is\", \"hey\", \"you\", \"how\", \"are\", \"you\", \"hey\"],[\"hey\", \"you\"])"
      ],
      "metadata": {
        "id": "6DanXkDvyTuY",
        "colab": {
          "base_uri": "https://localhost:8080/"
        },
        "outputId": "6b34b7b0-80af-41f5-f4cc-6a32152d95ea"
      },
      "execution_count": null,
      "outputs": [
        {
          "output_type": "execute_result",
          "data": {
            "text/plain": [
              "{'hey': [0, 3, 8], 'you': [4, 7]}"
            ]
          },
          "metadata": {},
          "execution_count": 53
        }
      ]
    },
    {
      "cell_type": "code",
      "source": [],
      "metadata": {
        "id": "OG_C5xyTlN5A"
      },
      "execution_count": null,
      "outputs": []
    }
  ]
}