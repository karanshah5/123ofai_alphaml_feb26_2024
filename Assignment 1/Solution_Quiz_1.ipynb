{
  "nbformat": 4,
  "nbformat_minor": 0,
  "metadata": {
    "colab": {
      "provenance": []
    },
    "kernelspec": {
      "name": "python3",
      "display_name": "Python 3"
    },
    "language_info": {
      "name": "python"
    }
  },
  "cells": [
    {
      "cell_type": "code",
      "execution_count": 1,
      "metadata": {
        "colab": {
          "base_uri": "https://localhost:8080/"
        },
        "id": "_kW_vCixV475",
        "outputId": "80531b4e-1c82-4bca-c94a-7dbc4d8d30fa"
      },
      "outputs": [
        {
          "output_type": "stream",
          "name": "stdout",
          "text": [
            "Enter the int 26\n",
            "Enter the int 87\n",
            "Enter the int 59\n",
            "Enter the int 37\n",
            "Enter the int 49\n",
            "258\n"
          ]
        }
      ],
      "source": [
        "# Question 3. The user will give you 5 integers as an input, one after the other. Use the input() function to capture that input, and return the resultant.\n",
        "\n",
        "for i in range(5):\n",
        "  user_input = input('Enter the int ')\n",
        "  user_input = int(user_input)\n",
        "  sum = sum + user_input\n",
        "\n",
        "print(sum)"
      ]
    },
    {
      "cell_type": "code",
      "source": [],
      "metadata": {
        "id": "NoRmBFfCWBAa"
      },
      "execution_count": null,
      "outputs": []
    }
  ]
}